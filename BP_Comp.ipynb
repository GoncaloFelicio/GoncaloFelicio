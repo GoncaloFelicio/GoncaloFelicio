{
 "cells": [
  {
   "cell_type": "markdown",
   "metadata": {},
   "source": [
    "# Ultimate Cheat Sheet\n",
    "A compilation of code snippets for a mix of use cases, tools or languages with a loose organization. \n",
    "\n",
    "Search index for categories. \n",
    "\n",
    "---"
   ]
  },
  {
   "cell_type": "markdown",
   "metadata": {},
   "source": [
    "## Index\n",
    "\n",
    "- [Bash](#bash-scripts)\n",
    "- [Git](#git)\n",
    "- [Python](#section-2-python-snippets)\n",
    "- [Section 4: Tips & Tricks](#section-4-tips--tricks)\n",
    "- [References](#references)"
   ]
  },
  {
   "cell_type": "markdown",
   "metadata": {},
   "source": [
    "## Bash Scripts"
   ]
  },
  {
   "cell_type": "markdown",
   "metadata": {},
   "source": [
    "#### Rename all files in a directory"
   ]
  },
  {
   "cell_type": "markdown",
   "metadata": {},
   "source": [
    "Rename all files in a dir substituting '.'->dot, with ' '->empty space, and removing everything aftert the 4th dot. Usefull for renaming bulk downloads with a structured naming  \n",
    "Attention: edge case names might cause issues\n",
    "\n",
    "```bash\n",
    "preview=true # To actually rename, set preview=false\n",
    "for f in *.*; do  # Loop through all files with at least one dot in the name\n",
    "    # Use awk to split filename by '.' and keep only up to the 4th part  \n",
    "    newname=$(echo \"$f\" | awk -F'.' '{ \n",
    "        new=\"\"; \n",
    "        for (i=1; i<=NF && i<=4; i++) new = new $i \" \";  \n",
    "        print new \n",
    "    }' | sed 's/ *$//') # Replace dots with spaces, remove trailing spaces  \n",
    "\n",
    "    # Check if the new filename already exists to avoid overwriting  \n",
    "    if [ -e \"$newname\" ]; then\n",
    "        echo \"Skipping '$f': already exists.\"\n",
    "        continue\n",
    "    fi\n",
    "    # Preview mode: show the mv command instead of executing it  \n",
    "    if [\"$preview\" = true]; then\n",
    "        echo mv -- \"$f\" \"$newname\" \n",
    "        break # Break after first preview to avoid too much output in preview mode\n",
    "    else\n",
    "        mv -- \"$f\" \"$newname\"\n",
    "    fi\n",
    "done"
   ]
  },
  {
   "cell_type": "code",
   "execution_count": null,
   "metadata": {},
   "outputs": [],
   "source": []
  },
  {
   "cell_type": "code",
   "execution_count": null,
   "metadata": {},
   "outputs": [],
   "source": []
  },
  {
   "cell_type": "markdown",
   "metadata": {},
   "source": [
    "## Git"
   ]
  },
  {
   "cell_type": "markdown",
   "metadata": {},
   "source": [
    "#### Clone a repo"
   ]
  },
  {
   "cell_type": "markdown",
   "metadata": {},
   "source": [
    "To clone a github repository there a few different ways from downloading a zip to using an ssh key saved in the github account  \n",
    "Example using a ssh link\n",
    "```bash\n",
    "git clone git@github.com:company/RepoName.git #paste in the ssh link from the github repository page\n",
    "```"
   ]
  },
  {
   "cell_type": "markdown",
   "metadata": {},
   "source": [
    "#### Provide a user id"
   ]
  },
  {
   "cell_type": "markdown",
   "metadata": {},
   "source": [
    "When doing operations like push or merge github needs to know who is doing these operations, id yourself using:\n",
    "```bash\n",
    "git config --global user.email \"my.email@company.com\"\n",
    "git config --global user.name \"Goncalo Felicio\"\n",
    "```"
   ]
  },
  {
   "cell_type": "markdown",
   "metadata": {},
   "source": [
    "#### Make a branch"
   ]
  },
  {
   "cell_type": "markdown",
   "metadata": {},
   "source": [
    "When working with multiple people its better to ALLWAYS work in separate branches, so first thing is creating a branch\n",
    "This creates and moves you to the new branch\n",
    "```bash\n",
    "git checkout -b my-branch-name\n",
    "```"
   ]
  },
  {
   "cell_type": "markdown",
   "metadata": {},
   "source": [
    "#### Discard Changes"
   ]
  },
  {
   "cell_type": "markdown",
   "metadata": {},
   "source": [
    "If you mess up and your local repo has problems or you simply want to discard changes from conflicts, can reset the local repo to the current remote one:\n",
    "```bash\n",
    "git reset --hard origin/master\n",
    "```"
   ]
  },
  {
   "cell_type": "markdown",
   "metadata": {},
   "source": [
    "#### Check Previous Commits"
   ]
  },
  {
   "cell_type": "markdown",
   "metadata": {},
   "source": [
    "To see previous commits info and catch up can:\n",
    "```bash\n",
    "git log\n",
    "```"
   ]
  },
  {
   "cell_type": "markdown",
   "metadata": {},
   "source": [
    "#### Add and Commit changes "
   ]
  },
  {
   "cell_type": "code",
   "execution_count": null,
   "metadata": {},
   "outputs": [],
   "source": []
  },
  {
   "cell_type": "markdown",
   "metadata": {},
   "source": [
    "#### Push to remote"
   ]
  },
  {
   "cell_type": "code",
   "execution_count": null,
   "metadata": {},
   "outputs": [],
   "source": []
  },
  {
   "cell_type": "markdown",
   "metadata": {},
   "source": [
    "#### Create a pull request"
   ]
  },
  {
   "cell_type": "code",
   "execution_count": null,
   "metadata": {},
   "outputs": [],
   "source": []
  },
  {
   "cell_type": "markdown",
   "metadata": {},
   "source": [
    "#### Fix Conflicts and Push again\n",
    " git push --set-upstream origin onboard_task"
   ]
  },
  {
   "cell_type": "markdown",
   "metadata": {},
   "source": [
    "#### Rebase a branch"
   ]
  },
  {
   "cell_type": "markdown",
   "metadata": {},
   "source": [
    "\n",
    "```bash\n",
    "git rebase master    \n",
    "\n",
    "git rebase --continue\n",
    "```"
   ]
  },
  {
   "cell_type": "markdown",
   "metadata": {},
   "source": []
  },
  {
   "cell_type": "markdown",
   "metadata": {},
   "source": []
  }
 ],
 "metadata": {
  "kernelspec": {
   "display_name": "Python 3",
   "language": "python",
   "name": "python3"
  },
  "language_info": {
   "name": "python",
   "version": "3.9.2"
  }
 },
 "nbformat": 4,
 "nbformat_minor": 2
}
