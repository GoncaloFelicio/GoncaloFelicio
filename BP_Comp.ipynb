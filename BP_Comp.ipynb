{
 "cells": [
  {
   "cell_type": "markdown",
   "metadata": {},
   "source": [
    "# Ultimate Cheat Sheet\n",
    "A compilation of code snippets for a mix of use cases, tools or languages with a loose organization. \n",
    "\n",
    "Search index for categories. \n",
    "\n",
    "---"
   ]
  },
  {
   "cell_type": "markdown",
   "metadata": {},
   "source": [
    "## Index\n",
    "\n",
    "- [Bash](#bash-scripts)\n",
    "- [Python](#section-2-python-snippets)\n",
    "- [Git](#section-3-useful-tools)\n",
    "- [Section 4: Tips & Tricks](#section-4-tips--tricks)\n",
    "- [References](#references)"
   ]
  },
  {
   "cell_type": "markdown",
   "metadata": {},
   "source": [
    "## Bash Scripts\n",
    "<a name=\"bash-scripts\"></a>"
   ]
  },
  {
   "cell_type": "markdown",
   "metadata": {},
   "source": [
    "Rename all files in a dir substituting '.'->dot, with ' '->empty space, and removing everything aftert the 4th dot. Usefull for renaming bulk downloads with a structured naming  \n",
    "Attention: edge case names might cause issues\n",
    "\n",
    "```bash\n",
    "preview=true # To actually rename, set preview=false\n",
    "for f in *.*; do  # Loop through all files with at least one dot in the name\n",
    "    # Use awk to split filename by '.' and keep only up to the 4th part  \n",
    "    newname=$(echo \"$f\" | awk -F'.' '{ \n",
    "        new=\"\"; \n",
    "        for (i=1; i<=NF && i<=4; i++) new = new $i \" \";  \n",
    "        print new \n",
    "    }' | sed 's/ *$//') # Replace dots with spaces, remove trailing spaces  \n",
    "\n",
    "    # Check if the new filename already exists to avoid overwriting  \n",
    "    if [ -e \"$newname\" ]; then\n",
    "        echo \"Skipping '$f': already exists.\"\n",
    "        continue\n",
    "    fi\n",
    "    # Preview mode: show the mv command instead of executing it  \n",
    "    if [\"$preview\" = true]; then\n",
    "        echo mv -- \"$f\" \"$newname\" \n",
    "        break # Break after first preview to avoid too much output in preview mode\n",
    "    else\n",
    "        mv -- \"$f\" \"$newname\"\n",
    "    fi\n",
    "done"
   ]
  },
  {
   "cell_type": "markdown",
   "metadata": {},
   "source": [
    "\n"
   ]
  },
  {
   "cell_type": "markdown",
   "metadata": {},
   "source": []
  }
 ],
 "metadata": {
  "kernelspec": {
   "display_name": "Python 3",
   "language": "python",
   "name": "python3"
  },
  "language_info": {
   "name": "python",
   "version": "3.9.2"
  }
 },
 "nbformat": 4,
 "nbformat_minor": 2
}
