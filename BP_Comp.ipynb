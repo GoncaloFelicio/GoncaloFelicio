{
 "cells": [
  {
   "cell_type": "markdown",
   "metadata": {},
   "source": [
    "# Ultimate Cheat Sheet\n",
    "A compilation of code snippets for a mix of use cases, tools or languages with a loose organization. \n",
    "\n",
    "Search index for categories. \n",
    "\n",
    "---"
   ]
  },
  {
   "cell_type": "markdown",
   "metadata": {},
   "source": [
    "## Index\n",
    "\n",
    "- [Bash](#bash-scripts)\n",
    "- [Git](#git)\n",
    "- [DBT](#dbt)\n",
    "- [Terraform](#terraform)\n",
    "- [Python](#python)"
   ]
  },
  {
   "cell_type": "markdown",
   "metadata": {},
   "source": [
    "## Bash Scripts"
   ]
  },
  {
   "cell_type": "markdown",
   "metadata": {},
   "source": [
    "#### Rename all files in a directory"
   ]
  },
  {
   "cell_type": "markdown",
   "metadata": {},
   "source": [
    "Rename all files in a dir substituting '.'->dot, with ' '->empty space, and removing everything aftert the 4th dot. Usefull for renaming bulk downloads with a structured naming  \n",
    "Attention: edge case names might cause issues\n",
    "\n",
    "```bash\n",
    "preview=true # To actually rename, set preview=false\n",
    "for f in *.*; do  # Loop through all files with at least one dot in the name\n",
    "    # Use awk to split filename by '.' and keep only up to the 4th part  \n",
    "    newname=$(echo \"$f\" | awk -F'.' '{ \n",
    "        new=\"\"; \n",
    "        for (i=1; i<=NF && i<=4; i++) new = new $i \" \";  \n",
    "        print new \n",
    "    }' | sed 's/ *$//') # Replace dots with spaces, remove trailing spaces  \n",
    "\n",
    "    # Check if the new filename already exists to avoid overwriting  \n",
    "    if [ -e \"$newname\" ]; then\n",
    "        echo \"Skipping '$f': already exists.\"\n",
    "        continue\n",
    "    fi\n",
    "    # Preview mode: show the mv command instead of executing it  \n",
    "    if [\"$preview\" = true]; then\n",
    "        echo mv -- \"$f\" \"$newname\" \n",
    "        break # Break after first preview to avoid too much output in preview mode\n",
    "    else\n",
    "        mv -- \"$f\" \"$newname\"\n",
    "    fi\n",
    "done"
   ]
  },
  {
   "cell_type": "markdown",
   "metadata": {},
   "source": [
    "## Git\n",
    "Using git always be as specific and explicit as possible"
   ]
  },
  {
   "cell_type": "markdown",
   "metadata": {},
   "source": [
    "#### Clone a repo"
   ]
  },
  {
   "cell_type": "markdown",
   "metadata": {},
   "source": [
    "To clone a github repository there a few different ways from downloading a zip to using an ssh key saved in the github account  \n",
    "Example using a ssh link\n",
    "```bash\n",
    "git clone git@github.com:company/RepoName.git #paste in the ssh link from the github repository page\n",
    "```"
   ]
  },
  {
   "cell_type": "markdown",
   "metadata": {},
   "source": [
    "#### Provide a user id"
   ]
  },
  {
   "cell_type": "markdown",
   "metadata": {},
   "source": [
    "When doing operations like push or merge github needs to know who is doing these operations, id yourself using:\n",
    "```bash\n",
    "git config --global user.email \"my.email@company.com\"\n",
    "git config --global user.name \"Goncalo Felicio\"\n",
    "```"
   ]
  },
  {
   "cell_type": "markdown",
   "metadata": {},
   "source": [
    "#### Make a branch"
   ]
  },
  {
   "cell_type": "markdown",
   "metadata": {},
   "source": [
    "When working with multiple people its better to ALLWAYS work in separate branches, so first thing is creating a branch\n",
    "This creates and moves you to the new branch\n",
    "```bash\n",
    "git checkout -b my-branch-name\n",
    "```"
   ]
  },
  {
   "cell_type": "markdown",
   "metadata": {},
   "source": [
    "#### Discard Changes"
   ]
  },
  {
   "cell_type": "markdown",
   "metadata": {},
   "source": [
    "If you mess up and your local repo has problems or you simply want to discard changes from conflicts, can reset the local repo to the current remote one:\n",
    "```bash\n",
    "git reset --hard origin/master\n",
    "```"
   ]
  },
  {
   "cell_type": "markdown",
   "metadata": {},
   "source": [
    "#### Check Previous Commits"
   ]
  },
  {
   "cell_type": "markdown",
   "metadata": {},
   "source": [
    "To see previous commits info and catch up can:\n",
    "```bash\n",
    "git log\n",
    "```"
   ]
  },
  {
   "cell_type": "markdown",
   "metadata": {},
   "source": [
    "#### Add and Commit changes "
   ]
  },
  {
   "cell_type": "markdown",
   "metadata": {
    "vscode": {
     "languageId": "markdown"
    }
   },
   "source": [
    "Installing pre-commit and setting up a pre-commit yaml file lets us run tests and hooks before committing changes \n",
    "```bash\n",
    "pre-commit install\n",
    "pre-commit run -a\n",
    "```\n",
    "After installing pre commits run automatically"
   ]
  },
  {
   "cell_type": "markdown",
   "metadata": {},
   "source": [
    "Stage all changes with \".\" then give the commit the message in \"something short but descriptive, can also include issue number\n",
    "\n",
    "```bash\n",
    "git add .\n",
    "git commit -m \"modified file for issue #123 \"\n",
    "```\n",
    "\n",
    "Can also create fixup commits that disappear after a merge or rebase to keep history line cleaner, this is for super small fixes\n",
    "\n",
    "```bash\n",
    "git commit --fixup head\n",
    "```"
   ]
  },
  {
   "cell_type": "markdown",
   "metadata": {},
   "source": [
    "#### Push to remote branch (NOT MASTER)"
   ]
  },
  {
   "cell_type": "markdown",
   "metadata": {},
   "source": [
    "push and set my local branch to track the specified remote branch\n",
    "```bash\n",
    "git push --set-upstream origin branch-name\n",
    "```"
   ]
  },
  {
   "cell_type": "markdown",
   "metadata": {},
   "source": [
    "Fixup commits, be careful with referencing fixup commits to eachother or to commits that no longer exist\n",
    "```bash\n",
    "git push --set-upstream origin branch-name\n",
    "```"
   ]
  },
  {
   "cell_type": "markdown",
   "metadata": {},
   "source": [
    "#### Create a pull request\n",
    "After pushing the branch can go to github and start a pull request, adding all the necessary info and reviewers no github"
   ]
  },
  {
   "cell_type": "markdown",
   "metadata": {},
   "source": [
    "#### Fix Conflicts and Push again\n",
    "If there are conflicts in the pull request, cna edit my file to fix it, then push again\n",
    "\n",
    "```bash\n",
    "git push --set-upstream origin branch-name\n",
    "```"
   ]
  },
  {
   "cell_type": "markdown",
   "metadata": {},
   "source": [
    "#### Rebase a branch\n",
    "Rebasing or merging to master are very similar, but rebasing is better if a master has many many branches, by keeping the history linear -> each time a master is rebased, while merging keeps the branch timeline intact better for single developer, rebasing moves it to the present"
   ]
  },
  {
   "cell_type": "markdown",
   "metadata": {},
   "source": [
    "\n",
    "```bash\n",
    "git rebase master    \n",
    "git rebase --continue\n",
    "\n",
    "git merge master\n",
    "```"
   ]
  },
  {
   "cell_type": "markdown",
   "metadata": {},
   "source": [
    "## DBT\n",
    "DBT is a data build tool to build pipelines from raw data to user friendly marts in modular, reusable SQL queries, with easy version control, testing and documentation"
   ]
  },
  {
   "cell_type": "markdown",
   "metadata": {},
   "source": [
    "The workflow is usually:\n",
    "- create a raw table in database to use as source\n",
    "- create a stg model to pull that data:\n",
    "    - include renaming cols, casting data types, basic cleaning, filter irrelevant data, as views these are what int models reference\n",
    "*stg_raw_schema__raw_data.sql*\n",
    "```sql\n",
    "with raw_data as (\n",
    "    select *\n",
    "    from {{ source('raw_schema'.'raw_table') }}\n",
    ")\n",
    "select * \n",
    "from raw_data\n",
    "```"
   ]
  },
  {
   "cell_type": "markdown",
   "metadata": {},
   "source": [
    "- modify stg_models.yml and stg_sources.yml to include this new model and source\n",
    "- create an intermediate model to trasform the data:\n",
    "    - include joins, more complex calcs and aggs, reusability/modularity, as views these are the \"CTEs\" the marts reference from\n",
    "*int_schema_data.sql*\n",
    "```sql\n",
    "with \n",
    "int_data as(\n",
    "    select a,b,c \n",
    "    from {{ ref('stg_raw_schema__raw_data')}}\n",
    "),\n",
    "int_data_2 as(\n",
    "    select d,e,f \n",
    "    from {{ ref('stg_raw_schema__raw_data2')}}\n",
    ")\n",
    "select *\n",
    "from int_data as i1\n",
    "join int_data_2 as i1 on i1.a=i2.d\n",
    "```"
   ]
  },
  {
   "cell_type": "markdown",
   "metadata": {},
   "source": [
    "- modify int_models.yml to include this new model\n",
    "- create mart models for user access:\n",
    "    - include user-friendly naming, wide denormalized tables, aggregations, materialized, always reference int models\n",
    "*mart_schema_data.sql*\n",
    "```sql\n",
    "with \n",
    "business_data as(\n",
    "    select a,b,c \n",
    "    from {{ ref('int_schema_data')}}\n",
    ")\n",
    "select *\n",
    "from business_data \n",
    "```"
   ]
  },
  {
   "cell_type": "markdown",
   "metadata": {},
   "source": [
    "#### Run DBT \n",
    "in a targeted way to avoid building all models again"
   ]
  },
  {
   "cell_type": "markdown",
   "metadata": {},
   "source": [
    "\n",
    "```bash\n",
    "db2 # to initialize dbt\n",
    "\n",
    "dbt run --select +top_model_name+\n",
    "```"
   ]
  },
  {
   "cell_type": "markdown",
   "metadata": {},
   "source": [
    "This will take the model named and all dependencies and build them"
   ]
  },
  {
   "cell_type": "markdown",
   "metadata": {},
   "source": [
    "## Terraform\n",
    "\n",
    "terraform is a versioned configuration manager for every resource, letting us manage all the infrastructure, jobs, vms, etc safely in one spot, becase terraform is versioned it only applies after passing the CI/CD and merging to the master repo"
   ]
  },
  {
   "cell_type": "markdown",
   "metadata": {},
   "source": [
    "to check what differences my local has to the current state\n",
    "```tf\n",
    "terraform plan\n",
    "```\n",
    "to apply my local changes to the current state - WARNING - extremely careful not to delete current infrastructure\n",
    "```tf\n",
    "terraform apply\n",
    "\n",
    "terraform apply -target=<RESOURCE_TYPE>.<RESOURCE_NAME>\n",
    "```\n",
    "for targeting a specific resource and not all the config"
   ]
  },
  {
   "cell_type": "markdown",
   "metadata": {},
   "source": []
  },
  {
   "cell_type": "markdown",
   "metadata": {},
   "source": [
    "## Python\n",
    "\n",
    "Python snippets for common libraries and use cases"
   ]
  },
  {
   "cell_type": "markdown",
   "metadata": {},
   "source": []
  }
 ],
 "metadata": {
  "kernelspec": {
   "display_name": "Python 3",
   "language": "python",
   "name": "python3"
  },
  "language_info": {
   "name": "python",
   "version": "3.9.6"
  }
 },
 "nbformat": 4,
 "nbformat_minor": 2
}
