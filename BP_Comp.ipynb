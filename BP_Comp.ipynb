{
 "cells": [
  {
   "cell_type": "markdown",
   "metadata": {},
   "source": [
    "# Ultimate Cheat Sheet\n",
    "A compilation of code snippets for a mix of use cases, tools or languages with a loose organization. \n",
    "\n",
    "Search index for categories. \n",
    "\n",
    "---"
   ]
  },
  {
   "cell_type": "markdown",
   "metadata": {},
   "source": [
    "## Index\n",
    "\n",
    "- [Bash](#bash-scripts)\n",
    "- [Git](#git)\n",
    "- [Python](#section-2-python-snippets)\n",
    "- [Section 4: Tips & Tricks](#section-4-tips--tricks)\n",
    "- [References](#references)"
   ]
  },
  {
   "cell_type": "markdown",
   "metadata": {},
   "source": [
    "## Bash Scripts"
   ]
  },
  {
   "cell_type": "markdown",
   "metadata": {},
   "source": [
    "#### Rename all files in a directory"
   ]
  },
  {
   "cell_type": "markdown",
   "metadata": {},
   "source": [
    "Rename all files in a dir substituting '.'->dot, with ' '->empty space, and removing everything aftert the 4th dot. Usefull for renaming bulk downloads with a structured naming  \n",
    "Attention: edge case names might cause issues\n",
    "\n",
    "```bash\n",
    "preview=true # To actually rename, set preview=false\n",
    "for f in *.*; do  # Loop through all files with at least one dot in the name\n",
    "    # Use awk to split filename by '.' and keep only up to the 4th part  \n",
    "    newname=$(echo \"$f\" | awk -F'.' '{ \n",
    "        new=\"\"; \n",
    "        for (i=1; i<=NF && i<=4; i++) new = new $i \" \";  \n",
    "        print new \n",
    "    }' | sed 's/ *$//') # Replace dots with spaces, remove trailing spaces  \n",
    "\n",
    "    # Check if the new filename already exists to avoid overwriting  \n",
    "    if [ -e \"$newname\" ]; then\n",
    "        echo \"Skipping '$f': already exists.\"\n",
    "        continue\n",
    "    fi\n",
    "    # Preview mode: show the mv command instead of executing it  \n",
    "    if [\"$preview\" = true]; then\n",
    "        echo mv -- \"$f\" \"$newname\" \n",
    "        break # Break after first preview to avoid too much output in preview mode\n",
    "    else\n",
    "        mv -- \"$f\" \"$newname\"\n",
    "    fi\n",
    "done"
   ]
  },
  {
   "cell_type": "markdown",
   "metadata": {},
   "source": [
    "## Git\n",
    "Using git always be as specific and explicit as possible"
   ]
  },
  {
   "cell_type": "markdown",
   "metadata": {},
   "source": [
    "#### Clone a repo"
   ]
  },
  {
   "cell_type": "markdown",
   "metadata": {},
   "source": [
    "To clone a github repository there a few different ways from downloading a zip to using an ssh key saved in the github account  \n",
    "Example using a ssh link\n",
    "```bash\n",
    "git clone git@github.com:company/RepoName.git #paste in the ssh link from the github repository page\n",
    "```"
   ]
  },
  {
   "cell_type": "markdown",
   "metadata": {},
   "source": [
    "#### Provide a user id"
   ]
  },
  {
   "cell_type": "markdown",
   "metadata": {},
   "source": [
    "When doing operations like push or merge github needs to know who is doing these operations, id yourself using:\n",
    "```bash\n",
    "git config --global user.email \"my.email@company.com\"\n",
    "git config --global user.name \"Goncalo Felicio\"\n",
    "```"
   ]
  },
  {
   "cell_type": "markdown",
   "metadata": {},
   "source": [
    "#### Make a branch"
   ]
  },
  {
   "cell_type": "markdown",
   "metadata": {},
   "source": [
    "When working with multiple people its better to ALLWAYS work in separate branches, so first thing is creating a branch\n",
    "This creates and moves you to the new branch\n",
    "```bash\n",
    "git checkout -b my-branch-name\n",
    "```"
   ]
  },
  {
   "cell_type": "markdown",
   "metadata": {},
   "source": [
    "#### Discard Changes"
   ]
  },
  {
   "cell_type": "markdown",
   "metadata": {},
   "source": [
    "If you mess up and your local repo has problems or you simply want to discard changes from conflicts, can reset the local repo to the current remote one:\n",
    "```bash\n",
    "git reset --hard origin/master\n",
    "```"
   ]
  },
  {
   "cell_type": "markdown",
   "metadata": {},
   "source": [
    "#### Check Previous Commits"
   ]
  },
  {
   "cell_type": "markdown",
   "metadata": {},
   "source": [
    "To see previous commits info and catch up can:\n",
    "```bash\n",
    "git log\n",
    "```"
   ]
  },
  {
   "cell_type": "markdown",
   "metadata": {},
   "source": [
    "#### Add and Commit changes "
   ]
  },
  {
   "cell_type": "markdown",
   "metadata": {
    "vscode": {
     "languageId": "markdown"
    }
   },
   "source": [
    "Installing pre-commit and setting up a pre-commit yaml file lets us run tests and hooks before committing changes \n",
    "```bash\n",
    "pre-commit install\n",
    "pre-commit run -a\n",
    "```\n",
    "After installing pre commits run automatically"
   ]
  },
  {
   "cell_type": "markdown",
   "metadata": {},
   "source": [
    "Stage all changes with \".\" then give the commit the message in \"something short but descriptive, can also include issue number\n",
    "\n",
    "```bash\n",
    "git add .\n",
    "git commit -m \"modified file for issue #123 \"\n",
    "```\n",
    "\n",
    "Can also create fixup commits that disappear after a merge or rebase to keep history line cleaner, this is for super small fixes\n",
    "\n",
    "```bash\n",
    "git commit --fixup head\n",
    "```"
   ]
  },
  {
   "cell_type": "markdown",
   "metadata": {},
   "source": [
    "#### Push to remote branch (NOT MASTER)"
   ]
  },
  {
   "cell_type": "markdown",
   "metadata": {},
   "source": [
    "push and set my local branch to track the specified remote branch\n",
    "```bash\n",
    "git push --set-upstream origin branch-name\n",
    "```"
   ]
  },
  {
   "cell_type": "markdown",
   "metadata": {},
   "source": [
    "#### Create a pull request\n",
    "After pushing the branch can go to github and start a pull request, adding all the necessary info and reviewers no github"
   ]
  },
  {
   "cell_type": "markdown",
   "metadata": {},
   "source": [
    "#### Fix Conflicts and Push again\n",
    "If there are conflicts in the pull request, cna edit my file to fix it, then push again\n",
    "\n",
    "```bash\n",
    "git push --set-upstream origin branch-name\n",
    "```"
   ]
  },
  {
   "cell_type": "markdown",
   "metadata": {},
   "source": [
    "#### Rebase a branch\n",
    "Rebasing or merging to master is very similar, but rebasing is better if a master has many many branches, keeping the history linear, by each time a master is merged, while merging keeps the branch timeline instact better for single developer"
   ]
  },
  {
   "cell_type": "markdown",
   "metadata": {},
   "source": [
    "\n",
    "```bash\n",
    "git rebase master    \n",
    "git rebase --continue\n",
    "\n",
    "git merge master\n",
    "```"
   ]
  },
  {
   "cell_type": "markdown",
   "metadata": {},
   "source": []
  }
 ],
 "metadata": {
  "kernelspec": {
   "display_name": "Python 3",
   "language": "python",
   "name": "python3"
  },
  "language_info": {
   "name": "python",
   "version": "3.9.6"
  }
 },
 "nbformat": 4,
 "nbformat_minor": 2
}
