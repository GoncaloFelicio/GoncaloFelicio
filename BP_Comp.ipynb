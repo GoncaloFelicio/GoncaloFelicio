{
 "cells": [
  {
   "cell_type": "markdown",
   "metadata": {},
   "source": [
    "### Ultimate Cheat Sheet\n",
    "A compilation of code snippets for a mix of use cases made over time and with a loose organization   \n",
    "Search index for categories\n",
    "\n",
    "----"
   ]
  },
  {
   "cell_type": "markdown",
   "metadata": {},
   "source": [
    "Bash Script for renaming all files in a dir substituting '.' dot with ' ' empty space and removing everything aftert the 4th dot. Usefull for renaming bulk downloads with structured naming  \n",
    "Some considerations: weird filenames might cause issues"
   ]
  },
  {
   "cell_type": "code",
   "execution_count": null,
   "metadata": {},
   "outputs": [],
   "source": [
    "preview=true # change to false to apply changes\n",
    "for f in *.*; do \n",
    "    newname=$(echo \"$f\" | awk -F'.' '{ \n",
    "        new=\"\"; \n",
    "        for (i=1; i<=NF && i<=4; i++) new = new $i \" \"; \n",
    "        print new \n",
    "    }' | sed 's/ *$//')\n",
    "\n",
    "    # Check for potential overwriting\n",
    "    if [ -e \"$newname\" ]; then\n",
    "        echo \"Skipping '$f': already exists.\"\n",
    "        continue\n",
    "    fi\n",
    "\n",
    "    if [\"$preview\" = true]; then\n",
    "        echo mv -- \"$f\" \"$newname\"  # echo to check first result, then exit\n",
    "        break\n",
    "    else\n",
    "        mv -- \"$f\" \"$newname\"\n",
    "    fi\n",
    "done"
   ]
  }
 ],
 "metadata": {
  "kernelspec": {
   "display_name": "Python 3",
   "language": "python",
   "name": "python3"
  },
  "language_info": {
   "name": "python",
   "version": "3.9.2"
  }
 },
 "nbformat": 4,
 "nbformat_minor": 2
}
